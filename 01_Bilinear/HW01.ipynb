{
 "cells": [
  {
   "cell_type": "code",
   "execution_count": 14,
   "metadata": {},
   "outputs": [
    {
     "name": "stdout",
     "output_type": "stream",
     "text": [
      "Before Integration : x**2 - 4\n",
      "After Integration : [-2, 2]\n"
     ]
    }
   ],
   "source": [
    "from PIL import Image, ImageDraw\n",
    "from sympy import *\n",
    "'''\n",
    "x, y = symbols('x y')\n",
    "gfg_exp = x**2-4\n",
    "  \n",
    "print(\"Before Integration : {}\".format(gfg_exp))\n",
    "  \n",
    "# Use sympy.integrate() method\n",
    "intr = solve(gfg_exp, x)\n",
    "  \n",
    "print(\"After Integration : {}\".format(intr))\n",
    "'''"
   ]
  },
  {
   "cell_type": "code",
   "execution_count": 10,
   "metadata": {},
   "outputs": [],
   "source": [
    "def transform(x1,y1,x2,y2,x3,y3,x11,y11,x22,y22,x33,y33):\n",
    "    \n",
    "    a = Symbol('a')\n",
    "    b = Symbol('b')\n",
    "    c = Symbol('c')\n",
    "    d = Symbol('d')\n",
    "    e = Symbol('e')\n",
    "    f = Symbol('f')\n",
    "    \n",
    "    fuc1 = x11*a + y11*b + c - x1   ##  解 x = x'a+ y'b+ c 此func 解出 a b c   \n",
    "    fuc2 = x22*a + y22*b + c - x2\n",
    "    fuc3 = x33*a + y33*b + c - x3\n",
    "    \n",
    "    sol1 = solve((fuc1,fuc2,fuc3), a,b,c)\n",
    "    \n",
    "    fuc4 = x11*d + y11*e + f - y1   ##  解 y = x'd+ y'e+ f 此func 解出 d e f\n",
    "    fuc5 = x22*d + y22*e + f - y2\n",
    "    fuc6 = x33*d + y33*e + f - y3\n",
    "    \n",
    "    sol2 = solve((fuc4,fuc5,fuc6), d,e,f)\n",
    "    \n",
    "    return sol1[a], sol1[b], sol1[c], sol2[d], sol2[e], sol2[f]"
   ]
  },
  {
   "cell_type": "code",
   "execution_count": 11,
   "metadata": {},
   "outputs": [],
   "source": [
    "def bilinear(x,y,image):\n",
    "    \n",
    "    l = int(x)\n",
    "    k = int(y)\n",
    "    a = x - l     # 原始x - int(x) 得出a比例\n",
    "    b = y - k     # 原始y - int(y) 得出b比例\n",
    "    \n",
    "    R = (1-a) * (1-b) * image.getpixel((l,k))[0] + a * (1-b) * image.getpixel((l+1,k))[0] + \\\n",
    "        (1-a) * b * image.getpixel((l,k+1))[0] + a * b * image.getpixel((l+1,k+1))[0]\n",
    "    \n",
    "    G = (1-a) * (1-b) * image.getpixel((l,k))[1] + a * (1-b) * image.getpixel((l+1,k))[1]+ \\\n",
    "        (1-a) * b * image.getpixel((l,k+1))[1] + a * b * image.getpixel((l+1,k+1))[1]\n",
    "    \n",
    "    B = (1-a) * (1-b) * image.getpixel((l,k))[2] + a * (1-b) * image.getpixel((l+1,k))[2]+ \\\n",
    "        (1-a) * b * image.getpixel((l,k+1))[2] + a * b * image.getpixel((l+1,k+1))[2]\n",
    "    \n",
    "    return R,G,B"
   ]
  },
  {
   "cell_type": "code",
   "execution_count": 12,
   "metadata": {},
   "outputs": [],
   "source": [
    "def main(img1, img2, x1, y1, x2, y2, x3, y3, x11, y11, x22, y22, x33, y33, output_img):\n",
    "    image1 = Image.open(img1) # Need to rotate image\n",
    "    image2 = Image.open(img2) # Original\n",
    "    w1, h1 = image1.size\n",
    "    w2, h2 = image2.size\n",
    "    \n",
    "    a, b, c, d, e, f = transform(x1,y1,x2,y2,x3,y3,x11,y11,x22,y22,x33,y33)\n",
    "    \n",
    "    ground_img = Image.new(\"RGB\", (w2 + int(w2*0.7), int(h2*1.1)), (255,255,255)) # 建立背景大白圖\n",
    "    draw = ImageDraw.Draw(ground_img)\n",
    "    \n",
    "    new_x_range = w2 + int(w2*0.7)-1\n",
    "    for new_i in range(0, w2+int(w2*0.7)-1):\n",
    "\n",
    "        for new_j in range(0, int(h2*1.1)-1):\n",
    "            \n",
    "            if 0 <= new_i <= w2-1 and 0 <= new_j <= h2-1:\n",
    "                draw.point((new_i, new_j), fill=(image2.getpixel((new_i,new_j))))\n",
    "            \n",
    "            else:\n",
    "                x = (a * new_i) + (b * new_j) + c\n",
    "                y = (d * new_i) + (e * new_j) + f\n",
    "                \n",
    "                if 0 <= x <= w1-1 and 0 <= y <= h1-1:\n",
    "                    R,G,B = bilinear(x,y,image1)\n",
    "                    draw.point((new_i, new_j), fill=(int(R),int(G),int(B)))\n",
    "                else:\n",
    "                    continue\n",
    "    ground_img.save(output_img)\n",
    "    \n",
    "main('03.jpg','01.jpg', x1=184, y1=378, x2=344, y2=675, x3=393, y3=435, x11=704, y11=330, x22=787, \\\n",
    "     y22=658, x33=902, y33=437, output_img='output_img_combine2.jpg')"
   ]
  },
  {
   "cell_type": "code",
   "execution_count": null,
   "metadata": {},
   "outputs": [],
   "source": []
  }
 ],
 "metadata": {
  "kernelspec": {
   "display_name": "SSD_Keras",
   "language": "python",
   "name": "ssd_keras"
  },
  "language_info": {
   "codemirror_mode": {
    "name": "ipython",
    "version": 3
   },
   "file_extension": ".py",
   "mimetype": "text/x-python",
   "name": "python",
   "nbconvert_exporter": "python",
   "pygments_lexer": "ipython3",
   "version": "3.6.10"
  }
 },
 "nbformat": 4,
 "nbformat_minor": 4
}
